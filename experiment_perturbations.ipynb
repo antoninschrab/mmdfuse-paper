{
 "cells": [
  {
   "cell_type": "markdown",
   "id": "d3babb17-0037-4d68-b72f-0fff1ea6bf0b",
   "metadata": {
    "tags": []
   },
   "source": [
    "# Environment mmdfuse-env"
   ]
  },
  {
   "cell_type": "code",
   "execution_count": null,
   "id": "ec20b44f-a25e-4721-9100-cbe5c05c9087",
   "metadata": {
    "tags": []
   },
   "outputs": [],
   "source": [
    "from sampler_perturbations import sampler_perturbations\n",
    "import numpy as np\n",
    "import jax\n",
    "import jax.numpy as jnp\n",
    "from jax import random\n",
    "from tqdm.auto import tqdm\n",
    "from pathlib import Path\n",
    "Path(\"results\").mkdir(exist_ok=True)\n",
    "%load_ext autoreload\n",
    "%autoreload 2"
   ]
  },
  {
   "cell_type": "code",
   "execution_count": 2,
   "id": "f7a2adc0-1b65-45f7-baec-e7c90a2c5a2d",
   "metadata": {
    "tags": []
   },
   "outputs": [],
   "source": [
    "from all_tests import mmdfuse_test, mmd_median_test, mmd_split_test\n",
    "from all_tests import mmdagg_test, mmdagginc_test, deep_mmd_test\n",
    "from all_tests import met_test, scf_test\n",
    "from all_tests import ctt_test, actt_test"
   ]
  },
  {
   "cell_type": "markdown",
   "id": "4ab90d43-ce11-4105-ba66-62a68a6b11eb",
   "metadata": {
    "tags": []
   },
   "source": [
    "## Vary difficulty d = 1"
   ]
  },
  {
   "cell_type": "code",
   "execution_count": 16,
   "id": "40ce6749-def9-43ff-845b-aac98b54f578",
   "metadata": {
    "tags": []
   },
   "outputs": [
    {
     "name": "stdout",
     "output_type": "stream",
     "text": [
      "scales : (0, 0.1, 0.2, 0.3, 0.4, 0.5)\n",
      "sample size : 500\n",
      " \n",
      "<function mmdfuse_test at 0x7f87943fb700>\n",
      "[0.045      0.085      0.17999999 0.505      0.825      0.97499996]\n",
      " \n",
      "<function mmd_median_test at 0x7f8faceb1820>\n",
      "[0.04  0.06  0.105 0.29  0.465 0.675]\n",
      " \n",
      "<function mmd_split_test at 0x7f8faceb18b0>\n",
      "[0.065 0.075 0.125 0.24  0.565 0.825]\n",
      " \n",
      "<function mmdagg_test at 0x7f8faceb1940>\n",
      "[0.035      0.08       0.21       0.60499996 0.88       0.98499995]\n",
      " \n",
      "<function mmdagginc_test at 0x7f8faceb19d0>\n",
      "[0.04       0.085      0.175      0.525      0.815      0.98499995]\n",
      " \n",
      "<function deep_mmd_test at 0x7f8faceb1a60>\n",
      "[0.08  0.06  0.11  0.31  0.515 0.84 ]\n",
      " \n",
      "<function met_test at 0x7f8faceb1af0>\n",
      "[0.065      0.09999999 0.14999999 0.26       0.51       0.73499995]\n",
      " \n",
      "<function scf_test at 0x7f8faceb1b80>\n",
      "[0.005 0.005 0.005 0.03  0.03  0.255]\n",
      " \n",
      "<function ctt_test at 0x7f8faceb1c10>\n",
      "[0.045 0.075 0.14  0.355 0.545 0.81 ]\n",
      " \n",
      "<function actt_test at 0x7f8faceb1ca0>\n",
      "[0.035      0.03       0.13499999 0.415      0.72499996 0.94      ]\n"
     ]
    }
   ],
   "source": [
    "repetitions = 200\n",
    "scales = (0, 0.1, 0.2, 0.3, 0.4, 0.5)\n",
    "number_perturbations = 2\n",
    "sample_size = 500\n",
    "d = 1\n",
    "\n",
    "tests = (mmdfuse_test, mmd_median_test, mmd_split_test, mmdagg_test, mmdagginc_test, deep_mmd_test, met_test, scf_test, ctt_test, actt_test)\n",
    "outputs = jnp.zeros((len(tests), len(scales), repetitions))\n",
    "outputs = outputs.tolist()\n",
    "key = random.PRNGKey(42)\n",
    "seed = 42\n",
    "for s in (range(len(scales))):\n",
    "    scale = scales[s]\n",
    "    for i in (range(repetitions)):\n",
    "        key, subkey = random.split(key)\n",
    "        X, Y = sampler_perturbations(m=sample_size, n=sample_size, d=d, scale=scale, number_perturbations=number_perturbations, seed=seed)\n",
    "        key, subkey = random.split(key)\n",
    "        seed += 1\n",
    "        for t in range(len(tests)):\n",
    "            test = tests[t]\n",
    "                outputs[t][s][i] = test(\n",
    "                    X,\n",
    "                    Y,\n",
    "                    subkey,\n",
    "                    seed,\n",
    "                )\n",
    "\n",
    "output = jnp.mean(jnp.array(outputs), -1)\n",
    "\n",
    "jnp.save(\"results/perturbations_vary_dif_d1.npy\", output)\n",
    "jnp.save(\"results/perturbations_vary_dif_d1_x_axis.npy\", scales)\n",
    "\n",
    "print(\"scales :\", scales)\n",
    "print(\"sample size :\", sample_size)\n",
    "for t in range(len(tests)):\n",
    "    print(\" \")\n",
    "    print(tests[t])\n",
    "    print(output[t])"
   ]
  },
  {
   "cell_type": "markdown",
   "id": "5a0c47a5-093f-4553-a6f3-4f15ec606733",
   "metadata": {
    "tags": []
   },
   "source": [
    "## Vary sample size d = 1"
   ]
  },
  {
   "cell_type": "code",
   "execution_count": 1,
   "id": "a2f1f83f-15ed-4e72-ba27-ca47c150af70",
   "metadata": {
    "tags": []
   },
   "outputs": [
    {
     "name": "stdout",
     "output_type": "stream",
     "text": [
      "\n",
      "sample sizes : (500, 1000, 1500, 2000, 2500, 3000)\n",
      "scale : 0.2\n",
      " \n",
      "<function mmdfuse_test at 0x7f00b69550d0>\n",
      "[0.21499999 0.42999998 0.72499996 0.78999996 0.92499995 0.98499995]\n",
      " \n",
      "<function mmd_median_test at 0x7f09886af430>\n",
      "[0.16       0.22       0.415      0.45499998 0.59       0.7       ]\n",
      " \n",
      "<function mmd_split_test at 0x7f09886af4c0>\n",
      "[0.14       0.19999999 0.45       0.49499997 0.69       0.74      ]\n",
      " \n",
      "<function mmdagg_test at 0x7f09886af550>\n",
      "[0.24       0.47       0.78499997 0.875      0.965      0.98999995]\n",
      " \n",
      "<function mmdagginc_test at 0x7f09886af5e0>\n",
      "[0.205      0.345      0.44       0.49499997 0.655      0.73499995]\n",
      " \n",
      "<function deep_mmd_test at 0x7f09886af670>\n",
      "[0.125      0.21       0.45499998 0.45       0.69       0.71999997]\n",
      " \n",
      "<function met_test at 0x7f09886af700>\n",
      "[0.14       0.24       0.265      0.29999998 0.525      0.675     ]\n",
      " \n",
      "<function scf_test at 0x7f09886af790>\n",
      "[0.015 0.01  0.02  0.04  0.075 0.145]\n",
      " \n",
      "<function ctt_test at 0x7f09886af820>\n",
      "[0.17999999 0.295      0.515      0.56       0.65999997 0.78999996]\n",
      " \n",
      "<function actt_test at 0x7f09886af8b0>\n",
      "[0.185 0.355 0.615 0.71  0.84  0.945]\n",
      "\n"
     ]
    }
   ],
   "source": [
    "repetitions = 200\n",
    "scale = 0.2\n",
    "number_perturbations = 2\n",
    "sample_sizes = (500, 1000, 1500, 2000, 2500, 3000)\n",
    "d = 1\n",
    "\n",
    "tests = (mmdfuse_test, mmd_median_test, mmd_split_test, mmdagg_test, mmdagginc_test, deep_mmd_test, met_test, scf_test, ctt_test, actt_test)\n",
    "outputs = jnp.zeros((len(tests), len(sample_sizes), repetitions))\n",
    "outputs = outputs.tolist()\n",
    "key = random.PRNGKey(42)\n",
    "seed = 42\n",
    "for s in tqdm(range(len(sample_sizes))):\n",
    "    sample_size = sample_sizes[s]\n",
    "    for i in tqdm(range(repetitions)):\n",
    "        key, subkey = random.split(key)\n",
    "        X, Y = sampler_perturbations(m=sample_size, n=sample_size, d=d, scale=scale, number_perturbations=number_perturbations, seed=seed)\n",
    "        key, subkey = random.split(key)\n",
    "        seed += 1\n",
    "        for t in range(len(tests)):\n",
    "            test = tests[t]\n",
    "            outputs[t][s][i] = test(\n",
    "                X,\n",
    "                Y,\n",
    "                subkey,\n",
    "                seed,\n",
    "            )\n",
    "\n",
    "output = jnp.mean(jnp.array(outputs), -1)\n",
    "\n",
    "jnp.save(\"results/perturbations_vary_n_d1.npy\", output)\n",
    "jnp.save(\"results/perturbations_vary_n_d1_x_axis.npy\", sample_sizes)\n",
    "\n",
    "print(\"sample sizes :\", sample_sizes)\n",
    "print(\"scale :\", scale)\n",
    "for t in range(len(tests)):\n",
    "    print(\" \")\n",
    "    print(tests[t])\n",
    "    print(output[t])"
   ]
  },
  {
   "cell_type": "markdown",
   "id": "85463a3c-db60-4bcb-8e98-420ea4e545f6",
   "metadata": {
    "tags": []
   },
   "source": [
    "## Vary difficulty d = 2"
   ]
  },
  {
   "cell_type": "code",
   "execution_count": 2,
   "id": "daf4f401-dc89-4183-85bb-6f4e85e8dd80",
   "metadata": {
    "tags": []
   },
   "outputs": [
    {
     "name": "stdout",
     "output_type": "stream",
     "text": [
      "\n",
      "scales : (0, 0.2, 0.4, 0.6, 0.8, 1)\n",
      "sample size : 500\n",
      " \n",
      "<function mmdfuse_test at 0x7f00b69550d0>\n",
      "[0.045      0.055      0.17       0.48499998 0.885      0.995     ]\n",
      " \n",
      "<function mmd_median_test at 0x7f09886af430>\n",
      "[0.05  0.065 0.065 0.05  0.06  0.075]\n",
      " \n",
      "<function mmd_split_test at 0x7f09886af4c0>\n",
      "[0.05       0.055      0.09999999 0.205      0.415      0.73499995]\n",
      " \n",
      "<function mmdagg_test at 0x7f09886af550>\n",
      "[0.045      0.055      0.145      0.39499998 0.83       0.98999995]\n",
      " \n",
      "<function mmdagginc_test at 0x7f09886af5e0>\n",
      "[0.03       0.055      0.13       0.29999998 0.72999996 0.905     ]\n",
      " \n",
      "<function deep_mmd_test at 0x7f09886af670>\n",
      "[0.035      0.065      0.12       0.11499999 0.25       0.38      ]\n",
      " \n",
      "<function met_test at 0x7f09886af700>\n",
      "[0.04       0.08       0.095      0.16       0.22999999 0.42999998]\n",
      " \n",
      "<function scf_test at 0x7f09886af790>\n",
      "[0.06       0.08       0.09999999 0.16       0.255      0.375     ]\n",
      " \n",
      "<function ctt_test at 0x7f09886af820>\n",
      "[0.035 0.07  0.06  0.055 0.07  0.075]\n",
      " \n",
      "<function actt_test at 0x7f09886af8b0>\n",
      "[0.045      0.045      0.11499999 0.305      0.72499996 0.955     ]\n",
      "\n"
     ]
    }
   ],
   "source": [
    "repetitions = 200\n",
    "scales = (0, 0.2, 0.4, 0.6, 0.8, 1)\n",
    "number_perturbations = 2\n",
    "sample_size = 500\n",
    "d = 2\n",
    "\n",
    "tests = (mmdfuse_test, mmd_median_test, mmd_split_test, mmdagg_test, mmdagginc_test, deep_mmd_test, met_test, scf_test, ctt_test, actt_test)\n",
    "outputs = jnp.zeros((len(tests), len(scales), repetitions))\n",
    "outputs = outputs.tolist()\n",
    "key = random.PRNGKey(42)\n",
    "seed = 42\n",
    "for s in tqdm(range(len(scales))):\n",
    "    scale = scales[s]\n",
    "    for i in tqdm(range(repetitions)):\n",
    "        key, subkey = random.split(key)\n",
    "        X, Y = sampler_perturbations(m=sample_size, n=sample_size, d=d, scale=scale, number_perturbations=number_perturbations, seed=seed)\n",
    "        key, subkey = random.split(key)\n",
    "        seed += 1\n",
    "        for t in range(len(tests)):\n",
    "            test = tests[t]\n",
    "            outputs[t][s][i] = test(\n",
    "                X,\n",
    "                Y,\n",
    "                subkey,\n",
    "                seed,\n",
    "            )\n",
    "\n",
    "output = jnp.mean(jnp.array(outputs), -1)\n",
    "\n",
    "jnp.save(\"results/perturbations_vary_dif_d2.npy\", output)\n",
    "jnp.save(\"results/perturbations_vary_dif_d2_x_axis.npy\", scales)\n",
    "\n",
    "print(\"scales :\", scales)\n",
    "print(\"sample size :\", sample_size)\n",
    "for t in range(len(tests)):\n",
    "    print(\" \")\n",
    "    print(tests[t])\n",
    "    print(output[t])"
   ]
  },
  {
   "cell_type": "markdown",
   "id": "4bf15a56-cfdf-4917-ab5a-b2e44f3d96a4",
   "metadata": {
    "tags": []
   },
   "source": [
    "## Vary sample size d = 2"
   ]
  },
  {
   "cell_type": "code",
   "execution_count": 7,
   "id": "4cef3dc2-4c9b-4de4-831a-92ba2e3103ce",
   "metadata": {},
   "outputs": [
    {
     "name": "stdout",
     "output_type": "stream",
     "text": [
      "sample sizes : (500, 1000, 1500, 2000, 2500, 3000)\n",
      "scale : 0.4\n",
      " \n",
      "<function mmdfuse_test at 0x7fca5c0e20d0>\n",
      "[0.16499999 0.42999998 0.69       0.805      0.97499996 0.98999995]\n",
      " \n",
      "<function mmd_median_test at 0x7fd27540f430>\n",
      "[0.065 0.045 0.055 0.045 0.075 0.03 ]\n",
      " \n",
      "<function mmd_split_test at 0x7fd27540f4c0>\n",
      "[0.08       0.16499999 0.285      0.42999998 0.63       0.72999996]\n",
      " \n",
      "<function mmdagg_test at 0x7fd27540f550>\n",
      "[0.155      0.33499998 0.59499997 0.765      0.95       0.97499996]\n",
      " \n",
      "<function mmdagginc_test at 0x7fd27540f5e0>\n",
      "[0.09       0.19       0.21499999 0.325      0.38       0.35      ]\n",
      " \n",
      "<function deep_mmd_test at 0x7fd27540f670>\n",
      "[0.03       0.11499999 0.16499999 0.17       0.26999998 0.41      ]\n",
      " \n",
      "<function met_test at 0x7fd27540f700>\n",
      "[0.07       0.105      0.12       0.22999999 0.25       0.295     ]\n",
      " \n",
      "<function scf_test at 0x7fd27540f790>\n",
      "[0.095      0.09999999 0.09999999 0.17       0.225      0.29999998]\n",
      " \n",
      "<function ctt_test at 0x7fd27540f820>\n",
      "[0.07  0.045 0.055 0.045 0.05  0.04 ]\n",
      " \n",
      "<function actt_test at 0x7fd27540f8b0>\n",
      "[0.095      0.275      0.45999998 0.675      0.865      0.93      ]\n"
     ]
    }
   ],
   "source": [
    "repetitions = 200\n",
    "scale = 0.4\n",
    "number_perturbations = 2\n",
    "sample_sizes = (500, 1000, 1500, 2000, 2500, 3000)\n",
    "d = 2\n",
    "\n",
    "tests = (mmdfuse_test, mmd_median_test, mmd_split_test, mmdagg_test, mmdagginc_test, deep_mmd_test, met_test, scf_test, ctt_test, actt_test)\n",
    "outputs = jnp.zeros((len(tests), len(sample_sizes), repetitions))\n",
    "outputs = outputs.tolist()\n",
    "key = random.PRNGKey(42)\n",
    "seed = 42\n",
    "for s in (range(len(sample_sizes))):\n",
    "    sample_size = sample_sizes[s]\n",
    "    for i in (range(repetitions)):\n",
    "        key, subkey = random.split(key)\n",
    "        X, Y = sampler_perturbations(m=sample_size, n=sample_size, d=d, scale=scale, number_perturbations=number_perturbations, seed=seed)\n",
    "        key, subkey = random.split(key)\n",
    "        seed += 1\n",
    "        for t in range(len(tests)):\n",
    "            test = tests[t]\n",
    "            outputs[t][s][i] = test(\n",
    "                X,\n",
    "                Y,\n",
    "                subkey,\n",
    "                seed,\n",
    "            )\n",
    "\n",
    "output = jnp.mean(jnp.array(outputs), -1)\n",
    "\n",
    "jnp.save(\"results/perturbations_vary_n_d2.npy\", output)\n",
    "jnp.save(\"results/perturbations_vary_n_d2_x_axis.npy\", sample_sizes)\n",
    "\n",
    "print(\"sample sizes :\", sample_sizes)\n",
    "print(\"scale :\", scale)\n",
    "for t in range(len(tests)):\n",
    "    print(\" \")\n",
    "    print(tests[t])\n",
    "    print(output[t])"
   ]
  },
  {
   "cell_type": "markdown",
   "id": "2cd02077-9c98-4398-8393-fe2ab58d7888",
   "metadata": {
    "tags": []
   },
   "source": [
    "# Environment autogluon-env"
   ]
  },
  {
   "cell_type": "code",
   "execution_count": 7,
   "id": "79dca59a-65fe-4b11-9bbb-3a86d7ee04a2",
   "metadata": {
    "tags": []
   },
   "outputs": [],
   "source": [
    "from sampler_perturbations import sampler_perturbations\n",
    "import jax\n",
    "import jax.numpy as jnp\n",
    "from jax import random\n",
    "from tqdm.auto import tqdm\n",
    "from pathlib import Path\n",
    "Path(\"results\").mkdir(exist_ok=True)"
   ]
  },
  {
   "cell_type": "code",
   "execution_count": 5,
   "id": "34fd9fbd-9595-46e1-a2cc-3a1081e9e363",
   "metadata": {
    "tags": []
   },
   "outputs": [],
   "source": [
    "import autotst\n",
    "from utils import HiddenPrints\n",
    "\n",
    "def autotst_test(X, Y, key, seed, time=60):\n",
    "    with HiddenPrints():\n",
    "        tst = autotst.AutoTST(X, Y, split_ratio=0.5, model=autotst.model.AutoGluonTabularPredictor)\n",
    "        tst.split_data()\n",
    "        tst.fit_witness(time_limit=time)  # time limit adjustable to your needs (in seconds)\n",
    "        p_value = tst.p_value_evaluate(permutations=10000)  # control number of permutations in the estimation\n",
    "    return int(p_value <= 0.05)"
   ]
  },
  {
   "cell_type": "markdown",
   "id": "ed649298-60c6-4fcb-9b78-9ab164904407",
   "metadata": {
    "tags": []
   },
   "source": [
    "## Vary difficulty d = 1"
   ]
  },
  {
   "cell_type": "code",
   "execution_count": 10,
   "id": "9b141918-f842-48f6-841d-093d0378f872",
   "metadata": {
    "tags": []
   },
   "outputs": [
    {
     "name": "stdout",
     "output_type": "stream",
     "text": [
      "scales : (0, 0.1, 0.2, 0.3, 0.4, 0.5)\n",
      "sample size : 500\n",
      " \n",
      "<function autotst_test at 0x7fae853daaf0>\n",
      "[0.04       0.08       0.17999999 0.36499998 0.63       0.875     ]\n"
     ]
    }
   ],
   "source": [
    "repetitions = 200\n",
    "scales = (0, 0.1, 0.2, 0.3, 0.4, 0.5)\n",
    "number_perturbations = 2\n",
    "sample_size = 500\n",
    "d = 1\n",
    "\n",
    "tests = (autotst_test, )\n",
    "outputs = jnp.zeros((len(tests), len(scales), repetitions))\n",
    "outputs = outputs.tolist()\n",
    "key = random.PRNGKey(42)\n",
    "seed = 42\n",
    "for s in (range(len(scales))):\n",
    "    scale = scales[s]\n",
    "    for i in (range(repetitions)):\n",
    "        key, subkey = random.split(key)\n",
    "        X, Y = sampler_perturbations(m=sample_size, n=sample_size, d=d, scale=scale, number_perturbations=number_perturbations, seed=seed)\n",
    "        key, subkey = random.split(key)\n",
    "        seed += 1\n",
    "        for t in range(len(tests)):\n",
    "            test = tests[t]\n",
    "            outputs[t][s][i] = test(\n",
    "                X,\n",
    "                Y,\n",
    "                subkey,\n",
    "                seed,\n",
    "            )\n",
    "\n",
    "output = jnp.mean(jnp.array(outputs), -1)\n",
    "\n",
    "jnp.save(\"results/perturbations_vary_dif_d1_autotst.npy\", output)\n",
    "\n",
    "print(\"scales :\", scales)\n",
    "print(\"sample size :\", sample_size)\n",
    "for t in range(len(tests)):\n",
    "    print(\" \")\n",
    "    print(tests[t])\n",
    "    print(output[t])"
   ]
  },
  {
   "cell_type": "markdown",
   "id": "51de002e-1962-4d6f-9cc1-4dea4c88794d",
   "metadata": {
    "tags": []
   },
   "source": [
    "## Vary sample size d = 1"
   ]
  },
  {
   "cell_type": "code",
   "execution_count": 3,
   "id": "d06933f9-2bb2-4f44-b80c-fb1bf47d9136",
   "metadata": {
    "tags": []
   },
   "outputs": [
    {
     "name": "stdout",
     "output_type": "stream",
     "text": [
      "\n",
      "sample sizes : (500, 1000, 1500, 2000, 2500, 3000)\n",
      "scale : 0.2\n",
      " \n",
      "<function autotst_test at 0x7fae853daaf0>\n",
      "[0.11499999 0.14999999 0.22       0.22999999 0.445      0.59499997]\n",
      "\n"
     ]
    }
   ],
   "source": [
    "repetitions = 200\n",
    "scale = 0.2\n",
    "number_perturbations = 2\n",
    "sample_sizes = (500, 1000, 1500, 2000, 2500, 3000)\n",
    "d = 1\n",
    "\n",
    "tests = (autotst_test, )\n",
    "outputs = jnp.zeros((len(tests), len(sample_sizes), repetitions))\n",
    "outputs = outputs.tolist()\n",
    "key = random.PRNGKey(42)\n",
    "seed = 42\n",
    "for s in tqdm(range(len(sample_sizes))):\n",
    "    sample_size = sample_sizes[s]\n",
    "    for i in tqdm(range(repetitions)):\n",
    "        key, subkey = random.split(key)\n",
    "        X, Y = sampler_perturbations(m=sample_size, n=sample_size, d=d, scale=scale, number_perturbations=number_perturbations, seed=seed)\n",
    "        key, subkey = random.split(key)\n",
    "        seed += 1\n",
    "        for t in range(len(tests)):\n",
    "            test = tests[t]\n",
    "            outputs[t][s][i] = test(\n",
    "                X,\n",
    "                Y,\n",
    "                subkey,\n",
    "                seed,\n",
    "            )\n",
    "\n",
    "output = jnp.mean(jnp.array(outputs), -1)\n",
    "\n",
    "jnp.save(\"results/perturbations_vary_n_d1_autotst.npy\", output)\n",
    "\n",
    "print(\"sample sizes :\", sample_sizes)\n",
    "print(\"scale :\", scale)\n",
    "for t in range(len(tests)):\n",
    "    print(\" \")\n",
    "    print(tests[t])\n",
    "    print(output[t])"
   ]
  },
  {
   "cell_type": "markdown",
   "id": "7a5e6f23-2cec-4f1c-9898-622e6f5bc370",
   "metadata": {
    "tags": []
   },
   "source": [
    "## Vary difficulty d = 2"
   ]
  },
  {
   "cell_type": "code",
   "execution_count": 4,
   "id": "731b7d79-3528-49cd-8e8e-fc693eb61ede",
   "metadata": {
    "tags": []
   },
   "outputs": [
    {
     "name": "stdout",
     "output_type": "stream",
     "text": [
      "\n",
      "scales : (0, 0.2, 0.4, 0.6, 0.8, 1)\n",
      "sample size : 500\n",
      " \n",
      "<function autotst_test at 0x7fae853daaf0>\n",
      "[0.04       0.05       0.13       0.19999999 0.42499998 0.72999996]\n",
      "\n"
     ]
    }
   ],
   "source": [
    "repetitions = 200\n",
    "scales = (0, 0.2, 0.4, 0.6, 0.8, 1)\n",
    "number_perturbations = 2\n",
    "sample_size = 500\n",
    "d = 2\n",
    "\n",
    "tests = (autotst_test, )\n",
    "outputs = jnp.zeros((len(tests), len(scales), repetitions))\n",
    "outputs = outputs.tolist()\n",
    "key = random.PRNGKey(42)\n",
    "seed = 42\n",
    "for s in tqdm(range(len(scales))):\n",
    "    scale = scales[s]\n",
    "    for i in tqdm(range(repetitions)):\n",
    "        key, subkey = random.split(key)\n",
    "        X, Y = sampler_perturbations(m=sample_size, n=sample_size, d=d, scale=scale, number_perturbations=number_perturbations, seed=seed)\n",
    "        key, subkey = random.split(key)\n",
    "        seed += 1\n",
    "        for t in range(len(tests)):\n",
    "            test = tests[t]\n",
    "            outputs[t][s][i] = test(\n",
    "                X,\n",
    "                Y,\n",
    "                subkey,\n",
    "                seed,\n",
    "            )\n",
    "\n",
    "output = jnp.mean(jnp.array(outputs), -1)\n",
    "\n",
    "jnp.save(\"results/perturbations_vary_dif_d2_autotst.npy\", output)\n",
    "\n",
    "print(\"scales :\", scales)\n",
    "print(\"sample size :\", sample_size)\n",
    "for t in range(len(tests)):\n",
    "    print(\" \")\n",
    "    print(tests[t])\n",
    "    print(output[t])"
   ]
  },
  {
   "cell_type": "markdown",
   "id": "9842d396-573d-4bfb-907a-455b5bc5e2c4",
   "metadata": {
    "tags": []
   },
   "source": [
    "## Vary sample size d = 2"
   ]
  },
  {
   "cell_type": "code",
   "execution_count": 14,
   "id": "0ddbc001-b8ad-4186-8850-f16319218366",
   "metadata": {},
   "outputs": [
    {
     "name": "stdout",
     "output_type": "stream",
     "text": [
      "sample sizes : (500, 1000, 1500, 2000, 2500, 3000)\n",
      "scale : 0.4\n",
      " \n",
      "<function autotst_test at 0x7fae853daaf0>\n",
      "[0.075      0.09       0.16499999 0.12       0.26999998 0.26999998]\n"
     ]
    }
   ],
   "source": [
    "repetitions = 200\n",
    "scale = 0.4\n",
    "number_perturbations = 2\n",
    "sample_sizes = (500, 1000, 1500, 2000, 2500, 3000)\n",
    "d = 2\n",
    "\n",
    "tests = (autotst_test, )\n",
    "outputs = jnp.zeros((len(tests), len(sample_sizes), repetitions))\n",
    "outputs = outputs.tolist()\n",
    "key = random.PRNGKey(42)\n",
    "seed = 42\n",
    "for s in (range(len(sample_sizes))):\n",
    "    sample_size = sample_sizes[s]\n",
    "    for i in (range(repetitions)):\n",
    "        key, subkey = random.split(key)\n",
    "        X, Y = sampler_perturbations(m=sample_size, n=sample_size, d=d, scale=scale, number_perturbations=number_perturbations, seed=seed)\n",
    "        key, subkey = random.split(key)\n",
    "        seed += 1\n",
    "        for t in range(len(tests)):\n",
    "            test = tests[t]\n",
    "            outputs[t][s][i] = test(\n",
    "                X,\n",
    "                Y,\n",
    "                subkey,\n",
    "                seed,\n",
    "            )\n",
    "\n",
    "output = jnp.mean(jnp.array(outputs), -1)\n",
    "\n",
    "jnp.save(\"results/perturbations_vary_n_d2_autotst.npy\", output)\n",
    "\n",
    "print(\"sample sizes :\", sample_sizes)\n",
    "print(\"scale :\", scale)\n",
    "for t in range(len(tests)):\n",
    "    print(\" \")\n",
    "    print(tests[t])\n",
    "    print(output[t])"
   ]
  }
 ],
 "metadata": {
  "kernelspec": {
   "display_name": "Python 3 (ipykernel)",
   "language": "python",
   "name": "python3"
  },
  "language_info": {
   "codemirror_mode": {
    "name": "ipython",
    "version": 3
   },
   "file_extension": ".py",
   "mimetype": "text/x-python",
   "name": "python",
   "nbconvert_exporter": "python",
   "pygments_lexer": "ipython3",
   "version": "3.9.16"
  }
 },
 "nbformat": 4,
 "nbformat_minor": 5
}
