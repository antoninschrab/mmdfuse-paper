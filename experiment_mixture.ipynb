{
 "cells": [
  {
   "cell_type": "markdown",
   "id": "d3babb17-0037-4d68-b72f-0fff1ea6bf0b",
   "metadata": {
    "tags": []
   },
   "source": [
    "# Environment mmdfuse-env"
   ]
  },
  {
   "cell_type": "code",
   "execution_count": null,
   "id": "ec20b44f-a25e-4721-9100-cbe5c05c9087",
   "metadata": {
    "tags": []
   },
   "outputs": [],
   "source": [
    "from sampler_mixture import sampler_mixture\n",
    "import jax\n",
    "import jax.numpy as jnp\n",
    "from jax import random\n",
    "from tqdm.auto import tqdm\n",
    "from pathlib import Path\n",
    "Path(\"results\").mkdir(exist_ok=True)\n",
    "%load_ext autoreload\n",
    "%autoreload 2"
   ]
  },
  {
   "cell_type": "code",
   "execution_count": 2,
   "id": "f7a2adc0-1b65-45f7-baec-e7c90a2c5a2d",
   "metadata": {
    "tags": []
   },
   "outputs": [],
   "source": [
    "from all_tests import mmdfuse_test, mmd_median_test, mmd_split_test\n",
    "from all_tests import mmdagg_test, mmdagginc_test, deep_mmd_test\n",
    "from all_tests import met_test, scf_test\n",
    "from all_tests import ctt_test, actt_test"
   ]
  },
  {
   "cell_type": "markdown",
   "id": "4ab90d43-ce11-4105-ba66-62a68a6b11eb",
   "metadata": {
    "tags": []
   },
   "source": [
    "## Vary difficulty"
   ]
  },
  {
   "cell_type": "code",
   "execution_count": 8,
   "id": "40ce6749-def9-43ff-845b-aac98b54f578",
   "metadata": {
    "tags": []
   },
   "outputs": [
    {
     "name": "stdout",
     "output_type": "stream",
     "text": [
      "shifts : (0.5, 0.6, 0.7, 0.8, 0.9, 1, 1.2, 1.4, 1.6, 1.8, 2)\n",
      "sample size : 500\n",
      " \n",
      "<function mmdfuse_test at 0x7f78f8795b80>\n",
      "[0.995      0.945      0.51       0.13499999 0.065      0.035\n",
      " 0.105      0.235      0.635      0.84       0.905     ]\n",
      " \n",
      "<function mmd_median_test at 0x7f78dca704c0>\n",
      "[0.055 0.05  0.03  0.035 0.065 0.035 0.04  0.04  0.03  0.035 0.05 ]\n",
      " \n",
      "<function mmd_split_test at 0x7f78dca70550>\n",
      "[0.885      0.615      0.26       0.095      0.09       0.05\n",
      " 0.085      0.145      0.315      0.49499997 0.555     ]\n",
      " \n",
      "<function mmdagg_test at 0x7f78dca705e0>\n",
      "[0.995      0.91499996 0.45999998 0.12       0.09       0.05\n",
      " 0.105      0.25       0.675      0.90999997 0.945     ]\n",
      " \n",
      "<function mmdagginc_test at 0x7f78dca70670>\n",
      "[0.97999996 0.805      0.355      0.095      0.065      0.02\n",
      " 0.105      0.205      0.545      0.78       0.90999997]\n",
      " \n",
      "<function deep_mmd_test at 0x7f78dca70700>\n",
      "[0.84499997 0.59       0.25       0.11499999 0.075      0.07\n",
      " 0.105      0.105      0.34       0.545      0.68      ]\n",
      " \n",
      "<function met_test at 0x7f78dca70790>\n",
      "[0.095      0.07       0.085      0.075      0.07       0.06\n",
      " 0.065      0.09999999 0.14999999 0.29       0.45499998]\n",
      " \n",
      "<function scf_test at 0x7f78dca70820>\n",
      "[0.78499997 0.55       0.285      0.12       0.11499999 0.085\n",
      " 0.11       0.32999998 0.59999996 0.835      0.935     ]\n",
      " \n",
      "<function ctt_test at 0x7f78dca708b0>\n",
      "[0.07  0.04  0.055 0.04  0.055 0.035 0.055 0.025 0.035 0.04  0.05 ]\n",
      " \n",
      "<function actt_test at 0x7f78dca70940>\n",
      "[0.97499996 0.835      0.29999998 0.095      0.08       0.025\n",
      " 0.085      0.16499999 0.415      0.615      0.77      ]\n"
     ]
    }
   ],
   "source": [
    "repetitions = 200\n",
    "shifts = (0.5, 0.6, 0.7, 0.8, 0.9, 1, 1.2, 1.4, 1.6, 1.8, 2)\n",
    "sample_size = 500\n",
    "\n",
    "tests = (mmdfuse_test, mmd_median_test, mmd_split_test, mmdagg_test, mmdagginc_test, deep_mmd_test, met_test, scf_test, ctt_test, actt_test)\n",
    "outputs = jnp.zeros((len(tests), len(shifts), repetitions))\n",
    "outputs = outputs.tolist()\n",
    "key = random.PRNGKey(42)\n",
    "seed = 42\n",
    "for s in (range(len(shifts))):\n",
    "    shift = shifts[s]\n",
    "    for i in (range(repetitions)):\n",
    "        key, subkey = random.split(key)\n",
    "        X, Y = sampler_mixture(subkey, m=sample_size, n=sample_size, d=2, mu=20, std_1=1, std_2=shift)\n",
    "        key, subkey = random.split(key)\n",
    "        seed += 1\n",
    "        for t in range(len(tests)):\n",
    "            test = tests[t]\n",
    "            outputs[t][s][i] = test(\n",
    "                X,\n",
    "                Y,\n",
    "                subkey,\n",
    "                seed,\n",
    "            )\n",
    "\n",
    "output = jnp.mean(jnp.array(outputs), -1)\n",
    "\n",
    "jnp.save(\"results/mixture_vary_dif.npy\", output)\n",
    "jnp.save(\"results/mixture_vary_dif_x_axis.npy\", shifts)\n",
    "\n",
    "print(\"shifts :\", shifts)\n",
    "print(\"sample size :\", sample_size)\n",
    "for t in range(len(tests)):\n",
    "    print(\" \")\n",
    "    print(tests[t])\n",
    "    print(output[t])"
   ]
  },
  {
   "cell_type": "markdown",
   "id": "5a0c47a5-093f-4553-a6f3-4f15ec606733",
   "metadata": {
    "tags": []
   },
   "source": [
    "## Vary sample size"
   ]
  },
  {
   "cell_type": "code",
   "execution_count": 1,
   "id": "7f47a7ce-8911-4746-b954-3d634d3087a8",
   "metadata": {
    "tags": []
   },
   "outputs": [
    {
     "name": "stdout",
     "output_type": "stream",
     "text": [
      "\n",
      "sample_sizes : (500, 1000, 1500, 2000, 2500, 3000)\n",
      "shift : 1.3\n",
      " \n",
      "<function mmdfuse_test at 0x7f78f8795b80>\n",
      "[0.17999999 0.38       0.635      0.765      0.88       0.96999997]\n",
      " \n",
      "<function mmd_median_test at 0x7f78dca704c0>\n",
      "[0.055 0.065 0.05  0.035 0.05  0.04 ]\n",
      " \n",
      "<function mmd_split_test at 0x7f78dca70550>\n",
      "[0.09999999 0.14999999 0.26999998 0.42499998 0.515      0.64      ]\n",
      " \n",
      "<function mmdagg_test at 0x7f78dca705e0>\n",
      "[0.19       0.385      0.66499996 0.78499997 0.89       0.98999995]\n",
      " \n",
      "<function mmdagginc_test at 0x7f78dca70670>\n",
      "[0.16499999 0.205      0.32999998 0.37       0.35999998 0.48499998]\n",
      " \n",
      "<function deep_mmd_test at 0x7f78dca70700>\n",
      "[0.13499999 0.195      0.33499998 0.475      0.59999996 0.72999996]\n",
      " \n",
      "<function met_test at 0x7f78dca70790>\n",
      "[0.095      0.09       0.12       0.17       0.19999999 0.24499999]\n",
      " \n",
      "<function scf_test at 0x7f78dca70820>\n",
      "[0.22       0.42       0.60499996 0.81       0.82       0.945     ]\n",
      " \n",
      "<function ctt_test at 0x7f78dca708b0>\n",
      "[0.065 0.055 0.055 0.03  0.03  0.035]\n",
      " \n",
      "<function actt_test at 0x7f78dca70940>\n",
      "[0.095      0.22999999 0.42999998 0.58       0.715      0.875     ]\n",
      "\n"
     ]
    }
   ],
   "source": [
    "repetitions = 200\n",
    "sample_sizes = (500, 1000, 1500, 2000, 2500, 3000)\n",
    "shift = 1.3\n",
    "\n",
    "tests = (mmdfuse_test, mmd_median_test, mmd_split_test, mmdagg_test, mmdagginc_test, deep_mmd_test, met_test, scf_test, ctt_test, actt_test)\n",
    "outputs = jnp.zeros((len(tests), len(sample_sizes), repetitions))\n",
    "outputs = outputs.tolist()\n",
    "key = random.PRNGKey(42)\n",
    "seed = 42\n",
    "for s in tqdm(range(len(sample_sizes))):\n",
    "    sample_size = sample_sizes[s]\n",
    "    for i in tqdm(range(repetitions)):\n",
    "        key, subkey = random.split(key)\n",
    "        X, Y = sampler_mixture(subkey, m=sample_size, n=sample_size, d=2, mu=20, std_1=1, std_2=shift)\n",
    "        key, subkey = random.split(key)\n",
    "        seed += 1\n",
    "        for t in range(len(tests)):\n",
    "            test = tests[t]\n",
    "            outputs[t][s][i] = test(\n",
    "                X,\n",
    "                Y,\n",
    "                subkey,\n",
    "                seed,\n",
    "            )\n",
    "\n",
    "output = jnp.mean(jnp.array(outputs), -1)\n",
    "\n",
    "jnp.save(\"results/mixture_vary_n.npy\", output)\n",
    "jnp.save(\"results/mixture_vary_n_x_axis.npy\", sample_sizes)\n",
    "\n",
    "print(\"sample_sizes :\", sample_sizes)\n",
    "print(\"shift :\", shift)\n",
    "for t in range(len(tests)):\n",
    "    print(\" \")\n",
    "    print(tests[t])\n",
    "    print(output[t])"
   ]
  },
  {
   "cell_type": "markdown",
   "id": "2cd02077-9c98-4398-8393-fe2ab58d7888",
   "metadata": {
    "tags": []
   },
   "source": [
    "# Environment autogluon-env"
   ]
  },
  {
   "cell_type": "code",
   "execution_count": null,
   "id": "884d008f-4259-439f-a137-1d8ce35d94aa",
   "metadata": {
    "tags": []
   },
   "outputs": [],
   "source": [
    "from sampler_mixture import sampler_mixture\n",
    "import jax\n",
    "import jax.numpy as jnp\n",
    "from jax import random\n",
    "from tqdm.auto import tqdm\n",
    "from pathlib import Path\n",
    "Path(\"results\").mkdir(exist_ok=True)"
   ]
  },
  {
   "cell_type": "code",
   "execution_count": 20,
   "id": "3cff775b-20c7-4fd5-8992-1fef383548ad",
   "metadata": {
    "tags": []
   },
   "outputs": [],
   "source": [
    "import autotst\n",
    "from utils import HiddenPrints\n",
    "\n",
    "def autotst_test(X, Y, key, seed, time=60):\n",
    "    with HiddenPrints():\n",
    "        tst = autotst.AutoTST(X, Y, split_ratio=0.5, model=autotst.model.AutoGluonTabularPredictor)\n",
    "        tst.split_data()\n",
    "        tst.fit_witness(time_limit=time)  # time limit adjustable to your needs (in seconds)\n",
    "        p_value = tst.p_value_evaluate(permutations=10000)  # control number of permutations in the estimation\n",
    "    return int(p_value <= 0.05)"
   ]
  },
  {
   "cell_type": "markdown",
   "id": "2f3ddd99-53c5-43d7-9971-b349f5a62a35",
   "metadata": {},
   "source": [
    "## Vary difficulty"
   ]
  },
  {
   "cell_type": "code",
   "execution_count": 2,
   "id": "d0362844-cb7c-4958-96fb-161da35b4713",
   "metadata": {
    "tags": []
   },
   "outputs": [
    {
     "name": "stdout",
     "output_type": "stream",
     "text": [
      "\n",
      "shifts : (0.5, 0.6, 0.7, 0.8, 0.9, 1, 1.2, 1.4, 1.6, 1.8, 2)\n",
      "sample size : 500\n",
      " \n",
      "<function autotst_test at 0x7fb0b46971f0>\n",
      "[0.88       0.59       0.185      0.085      0.04       0.07\n",
      " 0.075      0.145      0.49499997 0.765      0.90999997]\n",
      "\n"
     ]
    }
   ],
   "source": [
    "repetitions = 200\n",
    "shifts = (0.5, 0.6, 0.7, 0.8, 0.9, 1, 1.2, 1.4, 1.6, 1.8, 2)\n",
    "sample_size = 500\n",
    "\n",
    "tests = (autotst_test, )\n",
    "outputs = jnp.zeros((len(tests), len(shifts), repetitions))\n",
    "outputs = outputs.tolist()\n",
    "key = random.PRNGKey(42)\n",
    "seed = 42\n",
    "for s in tqdm(range(len(shifts))):\n",
    "    shift = shifts[s]\n",
    "    for i in tqdm(range(repetitions)):\n",
    "        key, subkey = random.split(key)\n",
    "        X, Y = sampler_mixture(subkey, m=sample_size, n=sample_size, d=2, mu=20, std_1=1, std_2=shift)\n",
    "        key, subkey = random.split(key)\n",
    "        seed += 1\n",
    "        for t in range(len(tests)):\n",
    "            test = tests[t]\n",
    "            outputs[t][s][i] = test(\n",
    "                X,\n",
    "                Y,\n",
    "                subkey,\n",
    "                seed,\n",
    "            )\n",
    "\n",
    "output = jnp.mean(jnp.array(outputs), -1)\n",
    "\n",
    "jnp.save(\"results/mixture_vary_dif_autotst.npy\", output)\n",
    "\n",
    "print(\"shifts :\", shifts)\n",
    "print(\"sample size :\", sample_size)\n",
    "for t in range(len(tests)):\n",
    "    print(\" \")\n",
    "    print(tests[t])\n",
    "    print(output[t])"
   ]
  },
  {
   "cell_type": "markdown",
   "id": "d3c81881-4a7a-43cc-bbba-2ee6b5e1d056",
   "metadata": {},
   "source": [
    "## Vary sample size"
   ]
  },
  {
   "cell_type": "code",
   "execution_count": 3,
   "id": "bc3a00d2-cd10-46ed-875e-defc68b650bf",
   "metadata": {
    "tags": []
   },
   "outputs": [
    {
     "name": "stdout",
     "output_type": "stream",
     "text": [
      "\n",
      "sample_sizes : (500, 1000, 1500, 2000, 2500, 3000)\n",
      "shift : 1.3\n",
      " \n",
      "<function autotst_test at 0x7fb0b46971f0>\n",
      "[0.12  0.21  0.415 0.585 0.745 0.87 ]\n",
      "\n"
     ]
    }
   ],
   "source": [
    "repetitions = 200\n",
    "sample_sizes = (500, 1000, 1500, 2000, 2500, 3000)\n",
    "shift = 1.3\n",
    "\n",
    "tests = (autotst_test, )\n",
    "outputs = jnp.zeros((len(tests), len(sample_sizes), repetitions))\n",
    "outputs = outputs.tolist()\n",
    "key = random.PRNGKey(42)\n",
    "seed = 42\n",
    "for s in tqdm(range(len(sample_sizes))):\n",
    "    sample_size = sample_sizes[s]\n",
    "    for i in tqdm(range(repetitions)):\n",
    "        key, subkey = random.split(key)\n",
    "        X, Y = sampler_mixture(subkey, m=sample_size, n=sample_size, d=2, mu=20, std_1=1, std_2=shift)\n",
    "        key, subkey = random.split(key)\n",
    "        seed += 1\n",
    "        for t in range(len(tests)):\n",
    "            test = tests[t]\n",
    "            outputs[t][s][i] = test(\n",
    "                X,\n",
    "                Y,\n",
    "                subkey,\n",
    "                seed,\n",
    "            )\n",
    "\n",
    "output = jnp.mean(jnp.array(outputs), -1)\n",
    "\n",
    "jnp.save(\"results/mixture_vary_n_autotst.npy\", output)\n",
    "\n",
    "print(\"sample_sizes :\", sample_sizes)\n",
    "print(\"shift :\", shift)\n",
    "for t in range(len(tests)):\n",
    "    print(\" \")\n",
    "    print(tests[t])\n",
    "    print(output[t])"
   ]
  },
  {
   "cell_type": "code",
   "execution_count": null,
   "id": "2e76b12e-ef2f-4445-aa2d-d39c1e8373c7",
   "metadata": {},
   "outputs": [],
   "source": []
  }
 ],
 "metadata": {
  "kernelspec": {
   "display_name": "Python 3 (ipykernel)",
   "language": "python",
   "name": "python3"
  },
  "language_info": {
   "codemirror_mode": {
    "name": "ipython",
    "version": 3
   },
   "file_extension": ".py",
   "mimetype": "text/x-python",
   "name": "python",
   "nbconvert_exporter": "python",
   "pygments_lexer": "ipython3",
   "version": "3.9.16"
  }
 },
 "nbformat": 4,
 "nbformat_minor": 5
}
