{
 "cells": [
  {
   "cell_type": "markdown",
   "id": "d3babb17-0037-4d68-b72f-0fff1ea6bf0b",
   "metadata": {
    "tags": []
   },
   "source": [
    "# Environment mmdfuse-env"
   ]
  },
  {
   "cell_type": "code",
   "execution_count": null,
   "id": "ec20b44f-a25e-4721-9100-cbe5c05c9087",
   "metadata": {
    "tags": []
   },
   "outputs": [],
   "source": [
    "import jax\n",
    "import jax.numpy as jnp\n",
    "from jax import random\n",
    "import numpy as np\n",
    "from tqdm.auto import tqdm\n",
    "from pathlib import Path\n",
    "Path(\"results\").mkdir(exist_ok=True)\n",
    "%load_ext autoreload\n",
    "%autoreload 2"
   ]
  },
  {
   "cell_type": "code",
   "execution_count": 5,
   "id": "f7a2adc0-1b65-45f7-baec-e7c90a2c5a2d",
   "metadata": {
    "tags": []
   },
   "outputs": [],
   "source": [
    "from all_tests import mmdfuse_test, mmd_median_test, mmd_split_test\n",
    "from all_tests import mmdagg_test, mmdagg_test_permutation, mmdagginc_test, deep_mmd_test\n",
    "from all_tests import met_test, scf_test\n",
    "from all_tests import ctt_test, actt_test"
   ]
  },
  {
   "cell_type": "code",
   "execution_count": 6,
   "id": "9b2d47e6-f89e-4cda-abf4-abc3c5864b0f",
   "metadata": {
    "tags": []
   },
   "outputs": [],
   "source": [
    "def sampler_normal(key, N, d):\n",
    "    key, subkey = random.split(key)\n",
    "    subkeys = random.split(subkey, num=2)\n",
    "    X = jax.random.multivariate_normal(subkeys[0], jnp.zeros((d, )), jnp.eye(d), shape=(N,)) \n",
    "    Y = jax.random.multivariate_normal(subkeys[1], 1.1 * jnp.zeros((d, )), jnp.eye(d), shape=(N,)) \n",
    "    return X, Y"
   ]
  },
  {
   "cell_type": "code",
   "execution_count": 4,
   "id": "18d32b36-85dc-457c-84c4-6b7e75acacce",
   "metadata": {
    "tags": []
   },
   "outputs": [
    {
     "data": {
      "text/plain": [
       "0"
      ]
     },
     "execution_count": 4,
     "metadata": {},
     "output_type": "execute_result"
    }
   ],
   "source": [
    "# compile jax functions\n",
    "mmdfuse_test(X, Y, subkey, seed)\n",
    "mmd_median_test(X, Y, subkey, seed)\n",
    "mmd_split_test(X, Y, subkey, seed)\n",
    "mmdagg_test_permutation(X, Y, subkey, seed)\n",
    "mmdagginc_test(X, Y, subkey, seed)"
   ]
  },
  {
   "cell_type": "markdown",
   "id": "7bda29e3-e741-48e2-b8c0-eef0c09a48c5",
   "metadata": {},
   "source": [
    "## Time vary sample size"
   ]
  },
  {
   "cell_type": "code",
   "execution_count": 1,
   "id": "bcc603a3-c0d1-4d60-ba03-79055465cf8c",
   "metadata": {
    "tags": []
   },
   "outputs": [
    {
     "name": "stdout",
     "output_type": "stream",
     "text": [
      "\n",
      "sample sizes : (250, 500, 1000, 2000, 4000)\n",
      "d : 10\n",
      "\n",
      "<function mmdfuse_test at 0x7f775811a8b0>\n",
      "[0.01525387 0.05450232 0.20295158 0.82106686 4.123863  ]\n",
      " \n",
      "<function mmd_median_test at 0x7f7c131cea60>\n",
      "[0.00291616 0.00795466 0.02829301 0.10554314 0.4574714 ]\n",
      " \n",
      "<function mmd_split_test at 0x7f7c131ceaf0>\n",
      "[0.00322919 0.00586797 0.01951194 0.05306372 0.2013358 ]\n",
      " \n",
      "<function mmdagg_test_permutation at 0x7f78f832ddc0>\n",
      "[0.02957679 0.0913114  0.32629034 1.4267617  7.1457143 ]\n",
      " \n",
      "<function mmdagginc_test at 0x7f7c131cec10>\n",
      "[0.00362434 0.00749975 0.0132229  0.02457804 0.04737148]\n",
      " \n",
      "<function deep_mmd_test at 0x7f7c131ceca0>\n",
      "[15.788608 15.728316 16.335041 15.397292 32.340313]\n",
      " \n",
      "<function met_test at 0x7f7c131ced30>\n",
      "[1.848104  1.8826377 1.9914436 2.2622426 2.6341183]\n",
      " \n",
      "<function scf_test at 0x7f7c131cedc0>\n",
      "[1.011565  1.0351776 1.0738761 1.1150266 1.1129541]\n",
      " \n",
      "<function ctt_test at 0x7f7c131cee50>\n",
      "[0.0055323  0.01416196 0.06024303 0.2431935  0.9558423 ]\n",
      " \n",
      "<function actt_test at 0x7f7c131ceee0>\n",
      "[0.07868144 0.11905323 0.3184363  1.1608348  4.6122084 ]\n",
      "\n"
     ]
    }
   ],
   "source": [
    "sample_sizes = (250, 500, 1000, 2000, 4000)\n",
    "d = 10\n",
    "\n",
    "tests = (mmdfuse_test, mmd_median_test, mmd_split_test, mmdagg_test_permutation, mmdagginc_test, deep_mmd_test, met_test, scf_test, ctt_test, actt_test)\n",
    "time_mean = np.zeros((len(tests), len(sample_sizes)))\n",
    "time_std = np.zeros((len(tests), len(sample_sizes)))\n",
    "key = random.PRNGKey(42)\n",
    "seed = 42\n",
    "for s in tqdm(range(len(sample_sizes))):\n",
    "    sample_size = sample_sizes[s]\n",
    "    key, subkey = random.split(key)\n",
    "    X, Y = sampler_normal(subkey, N=sample_size, d=d)\n",
    "    key, subkey = random.split(key)\n",
    "    seed += 1\n",
    "    for t in range(len(tests)):\n",
    "        test = tests[t]\n",
    "        compiled = test(X - 1, Y + 1, subkey, seed)\n",
    "        time_f = %timeit -o -r 10 -n 1 test(X, Y, subkey, seed)\n",
    "        time_mean[t,s] = np.mean(time_f.timings)\n",
    "        time_std[t,s] = np.std(time_f.timings)  \n",
    "\n",
    "jnp.save(\"results/runtimes_vary_n_mean.npy\", time_mean)\n",
    "jnp.save(\"results/runtimes_vary_n_std.npy\", time_std)\n",
    "jnp.save(\"results/runtimes_vary_n_x_axis.npy\", sample_sizes)\n",
    "\n",
    "print(\"sample sizes :\", sample_sizes)\n",
    "print(\"d :\", d)\n",
    "for t in range(len(tests)):\n",
    "    print(\" \")\n",
    "    print(tests[t])\n",
    "    print(time_mean[t])\n"
   ]
  },
  {
   "cell_type": "markdown",
   "id": "1a904604-76d7-4d3b-aa31-b6a425db9615",
   "metadata": {},
   "source": [
    "## Time vary dimension"
   ]
  },
  {
   "cell_type": "code",
   "execution_count": 13,
   "id": "79331d06-7944-4d44-bf28-04abaa7fe2c6",
   "metadata": {
    "tags": []
   },
   "outputs": [
    {
     "name": "stdout",
     "output_type": "stream",
     "text": [
      "dimensions : (1, 10, 100, 1000, 10000)\n",
      "sample size : 500\n",
      " \n",
      "<function mmdfuse_test at 0x7f775811a8b0>\n",
      "[0.04927933 0.05408762 0.05455407 0.06881471 0.46823305]\n",
      " \n",
      "<function mmd_median_test at 0x7f7c131cea60>\n",
      "[0.00755315 0.00757084 0.00923714 0.02361597 0.40707476]\n",
      " \n",
      "<function mmd_split_test at 0x7f7c131ceaf0>\n",
      "[0.00543419 0.00547784 0.00657382 0.01416614 0.11493775]\n",
      " \n",
      "<function mmdagg_test_permutation at 0x7f78f832ddc0>\n",
      "[0.09055484 0.09227856 0.09387398 0.11022529 0.56206424]\n",
      " \n",
      "<function mmdagginc_test at 0x7f7c131cec10>\n",
      "[0.00718643 0.00717156 0.00775331 0.01344394 0.10263746]\n",
      " \n",
      "<function deep_mmd_test at 0x7f7c131ceca0>\n",
      "[17.29203677 16.16944732 17.47588174 18.67277506 16.82258415]\n",
      " \n",
      "<function met_test at 0x7f7c131ced30>\n",
      "[1.84779273 1.84727186 2.13086594 6.05938222 0.        ]\n",
      " \n",
      "<function scf_test at 0x7f7c131cedc0>\n",
      "[0.99328488 1.05924308 1.05488316 1.29074975 1.96614258]\n",
      " \n",
      "<function ctt_test at 0x7f7c131cee50>\n",
      "[0.01220438 0.01762149 0.07314361 0.52497685 5.52379876]\n",
      " \n",
      "<function actt_test at 0x7f7c131ceee0>\n",
      "[0.11330995 0.13155577 0.16066149 0.62998752 5.62495279]\n"
     ]
    }
   ],
   "source": [
    "sample_size = 500\n",
    "ds = (1, 10, 100, 1000, 10000)\n",
    "\n",
    "tests = (mmdfuse_test, mmd_median_test, mmd_split_test, mmdagg_test_permutation, mmdagginc_test, deep_mmd_test, met_test, scf_test, ctt_test, actt_test)\n",
    "time_mean = np.zeros((len(tests), len(ds)))\n",
    "time_std = np.zeros((len(tests), len(ds)))\n",
    "key = random.PRNGKey(42)\n",
    "seed = 42\n",
    "for s in tqdm(range(len(ds))):\n",
    "    d = ds[s]\n",
    "    key, subkey = random.split(key)\n",
    "    X, Y = sampler_normal(subkey, N=sample_size, d=d)\n",
    "    key, subkey = random.split(key)\n",
    "    seed += 1\n",
    "    for t in range(len(tests)):\n",
    "        if (t, s) != (6, 4): \n",
    "            test = tests[t]\n",
    "            compiled = test(X - 1, Y + 1, subkey, seed)\n",
    "            time_f = %timeit -o -r 10 -n 1 test(X, Y, subkey, seed)\n",
    "            time_mean[t,s] = np.mean(time_f.timings)\n",
    "            time_std[t,s] = np.std(time_f.timings)  \n",
    "\n",
    "if save:\n",
    "    jnp.save(\"results/runtimes_vary_d_mean.npy\", time_mean)\n",
    "    jnp.save(\"results/runtimes_vary_d_std.npy\", time_std)\n",
    "    jnp.save(\"results/runtimes_vary_d_x_axis.npy\", ds)\n",
    "\n",
    "print(\"dimensions :\", ds)\n",
    "print(\"sample size :\", sample_size)\n",
    "for t in range(len(tests)):\n",
    "    print(\" \")\n",
    "    print(tests[t])\n",
    "    print(time_mean[t])\n"
   ]
  },
  {
   "cell_type": "markdown",
   "id": "2cd02077-9c98-4398-8393-fe2ab58d7888",
   "metadata": {
    "tags": []
   },
   "source": [
    "# Environment autogluon-env"
   ]
  },
  {
   "cell_type": "code",
   "execution_count": 5,
   "id": "884d008f-4259-439f-a137-1d8ce35d94aa",
   "metadata": {
    "tags": []
   },
   "outputs": [],
   "source": [
    "import jax\n",
    "import jax.numpy as jnp\n",
    "from jax import random\n",
    "import numpy as np\n",
    "from tqdm.auto import tqdm\n",
    "from pathlib import Path\n",
    "Path(\"results\").mkdir(exist_ok=True)"
   ]
  },
  {
   "cell_type": "code",
   "execution_count": 10,
   "id": "3cff775b-20c7-4fd5-8992-1fef383548ad",
   "metadata": {
    "tags": []
   },
   "outputs": [],
   "source": [
    "import autotst\n",
    "from utils import HiddenPrints\n",
    "\n",
    "def autotst_test(X, Y, key, seed, time=60):\n",
    "    with HiddenPrints():\n",
    "        tst = autotst.AutoTST(X, Y, split_ratio=0.5, model=autotst.model.AutoGluonTabularPredictor)\n",
    "        tst.split_data()\n",
    "        tst.fit_witness(time_limit=time)  # time limit adjustable to your needs (in seconds)\n",
    "        p_value = tst.p_value_evaluate(permutations=10000)  # control number of permutations in the estimation\n",
    "    return int(p_value <= 0.05)"
   ]
  },
  {
   "cell_type": "code",
   "execution_count": 3,
   "id": "2a7f0323-ab0d-43fa-866f-c79ba812ee99",
   "metadata": {
    "tags": []
   },
   "outputs": [],
   "source": [
    "def sampler_normal(key, N, d):\n",
    "    key, subkey = random.split(key)\n",
    "    subkeys = random.split(subkey, num=2)\n",
    "    X = jax.random.multivariate_normal(subkeys[0], jnp.zeros((d, )), jnp.eye(d), shape=(N,)) \n",
    "    Y = jax.random.multivariate_normal(subkeys[1], 1.1 * jnp.zeros((d, )), jnp.eye(d), shape=(N,)) \n",
    "    return X, Y"
   ]
  },
  {
   "cell_type": "markdown",
   "id": "4e0f2325-02f3-4338-a073-504afab3fe76",
   "metadata": {},
   "source": [
    "## Time vary sample size"
   ]
  },
  {
   "cell_type": "code",
   "execution_count": 2,
   "id": "f29c1508-060d-4f99-b186-af0eb4bc33cf",
   "metadata": {
    "tags": []
   },
   "outputs": [
    {
     "name": "stdout",
     "output_type": "stream",
     "text": [
      "\n",
      "sample_sizes : (250, 500, 1000, 2000, 4000)\n",
      "d : 10\n",
      " \n",
      "<function autotst_test at 0x7fe293f28ee0>\n",
      "[39.0804517  44.53311026 68.31917908 70.4661544  74.73801817]\n",
      "\n"
     ]
    }
   ],
   "source": [
    "sample_sizes = (250, 500, 1000, 2000, 4000)\n",
    "d = 10\n",
    "\n",
    "tests = (autotst_test, )\n",
    "time_mean = np.zeros((len(tests), len(sample_sizes)))\n",
    "time_std = np.zeros((len(tests), len(sample_sizes)))\n",
    "key = random.PRNGKey(42)\n",
    "seed = 42\n",
    "for s in tqdm(range(len(sample_sizes))):\n",
    "    sample_size = sample_sizes[s]\n",
    "    key, subkey = random.split(key)\n",
    "    X, Y = sampler_normal(subkey, N=sample_size, d=d)\n",
    "    key, subkey = random.split(key)\n",
    "    seed += 1\n",
    "    for t in range(len(tests)):\n",
    "        test = tests[t]\n",
    "        time_f = %timeit -o -r 10 -n 1 test(X, Y, subkey, seed)\n",
    "        time_mean[t,s] = np.mean(time_f.timings)\n",
    "        time_std[t,s] = np.std(time_f.timings)  \n",
    "\n",
    "if save:\n",
    "    jnp.save(\"results/runtimes_vary_n_autotst_mean.npy\", time_mean)\n",
    "    jnp.save(\"results/runtimes_vary_n_autotst_std.npy\", time_std)\n",
    "\n",
    "print(\"sample_sizes :\", sample_sizes)\n",
    "print(\"d :\", d)\n",
    "for t in range(len(tests)):\n",
    "    print(\" \")\n",
    "    print(tests[t])\n",
    "    print(time_mean[t])\n"
   ]
  },
  {
   "cell_type": "markdown",
   "id": "4afbf18a-1902-4f5f-92af-0168e0145f6f",
   "metadata": {},
   "source": [
    "## Time vary dimension"
   ]
  },
  {
   "cell_type": "code",
   "execution_count": 3,
   "id": "739fc742-f81d-44b4-abf7-ade009e2a0e5",
   "metadata": {
    "tags": []
   },
   "outputs": [
    {
     "name": "stdout",
     "output_type": "stream",
     "text": [
      "\n",
      "dimensions : (1, 10, 100, 1000, 10000)\n",
      "sample size : 500\n",
      " \n",
      "<function autotst_test at 0x7fe293f28ee0>\n",
      "[39.19415824 39.18103299 51.87275588 63.75943972 73.03921813]\n",
      "\n"
     ]
    }
   ],
   "source": [
    "sample_size = 500\n",
    "ds = (1, 10, 100, 1000, 10000)\n",
    "tests = (autotst_test, )\n",
    "time_mean = np.zeros((len(tests), len(ds)))\n",
    "time_std = np.zeros((len(tests), len(ds)))\n",
    "key = random.PRNGKey(42)\n",
    "seed = 42\n",
    "for s in tqdm(range(len(ds))):\n",
    "    d = ds[s]\n",
    "    key, subkey = random.split(key)\n",
    "    X, Y = sampler_normal(subkey, N=sample_size, d=d)\n",
    "    key, subkey = random.split(key)\n",
    "    seed += 1\n",
    "    for t in range(len(tests)):\n",
    "        if (t, s) != (6, 4): \n",
    "            test = tests[t]\n",
    "            time_f = %timeit -o -r 10 -n 1 test(X, Y, subkey, seed)\n",
    "            time_mean[t,s] = np.mean(time_f.timings)\n",
    "            time_std[t,s] = np.std(time_f.timings)  \n",
    "\n",
    "if save:\n",
    "    jnp.save(\"results/runtimes_vary_d_autotst_mean.npy\", time_mean)\n",
    "    jnp.save(\"results/runtimes_vary_d_autotst_std.npy\", time_std)\n",
    "\n",
    "print(\"dimensions :\", ds)\n",
    "print(\"sample size :\", sample_size)\n",
    "for t in range(len(tests)):\n",
    "    print(\" \")\n",
    "    print(tests[t])\n",
    "    print(time_mean[t])"
   ]
  }
 ],
 "metadata": {
  "kernelspec": {
   "display_name": "Python 3 (ipykernel)",
   "language": "python",
   "name": "python3"
  },
  "language_info": {
   "codemirror_mode": {
    "name": "ipython",
    "version": 3
   },
   "file_extension": ".py",
   "mimetype": "text/x-python",
   "name": "python",
   "nbconvert_exporter": "python",
   "pygments_lexer": "ipython3",
   "version": "3.9.16"
  }
 },
 "nbformat": 4,
 "nbformat_minor": 5
}
