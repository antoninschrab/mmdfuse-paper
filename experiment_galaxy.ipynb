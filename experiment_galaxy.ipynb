{
 "cells": [
  {
   "cell_type": "markdown",
   "id": "d3babb17-0037-4d68-b72f-0fff1ea6bf0b",
   "metadata": {
    "tags": []
   },
   "source": [
    "# Environment mmdfuse-env"
   ]
  },
  {
   "cell_type": "code",
   "execution_count": null,
   "id": "ec20b44f-a25e-4721-9100-cbe5c05c9087",
   "metadata": {
    "tags": []
   },
   "outputs": [],
   "source": [
    "from sampler_galaxy import load_images_list, sampler_galaxy\n",
    "import jax\n",
    "import jax.numpy as jnp\n",
    "from jax import random\n",
    "from tqdm.auto import tqdm\n",
    "from pathlib import Path\n",
    "Path(\"results\").mkdir(exist_ok=True)\n",
    "%load_ext autoreload\n",
    "%autoreload 2"
   ]
  },
  {
   "cell_type": "code",
   "execution_count": 2,
   "id": "f7a2adc0-1b65-45f7-baec-e7c90a2c5a2d",
   "metadata": {
    "tags": []
   },
   "outputs": [],
   "source": [
    "from all_tests import mmdfuse_test\n",
    "from all_tests import mmd_median_test, mmd_split_test\n",
    "from all_tests import mmdagg_test, mmdagginc_test\n",
    "from all_tests import deep_mmd_test, deep_mmd_image_test\n",
    "from all_tests import met_test, scf_test\n",
    "from all_tests import ctt_test, actt_test"
   ]
  },
  {
   "cell_type": "code",
   "execution_count": 29,
   "id": "a16ce72b-ded0-43e1-843f-370c3080acff",
   "metadata": {
    "tags": []
   },
   "outputs": [],
   "source": [
    "images_list = load_images_list(highres=False)"
   ]
  },
  {
   "cell_type": "markdown",
   "id": "2517ce95-93bc-4973-b580-1355fd47cb1c",
   "metadata": {
    "tags": []
   },
   "source": [
    "## Vary difficulty"
   ]
  },
  {
   "cell_type": "code",
   "execution_count": 1,
   "id": "53a0e613-358b-42da-a702-5903221ef154",
   "metadata": {
    "tags": []
   },
   "outputs": [
    {
     "name": "stdout",
     "output_type": "stream",
     "text": [
      "\n",
      "corruptions : (0.1, 0.15, 0.2, 0.25, 0.3, 0.35, 0.4)\n",
      "sample size : 500\n",
      " \n",
      "<function mmdfuse_test at 0x7f08a5c4f310>\n",
      "[0.07       0.24499999 0.65999997 0.90999997 0.995      1.\n",
      " 1.        ]\n",
      " \n",
      "<function mmd_median_test at 0x7f088fb7f310>\n",
      "[0.13       0.14999999 0.28       0.53499997 0.775      0.85499996\n",
      " 0.98999995]\n",
      " \n",
      "<function mmd_split_test at 0x7f088fb7f3a0>\n",
      "[0.075 0.12  0.235 0.475 0.76  0.94  0.965]\n",
      " \n",
      "<function mmdagg_test at 0x7f088fb7f430>\n",
      "[0.075      0.235      0.51       0.84499997 0.96999997 1.\n",
      " 1.        ]\n",
      " \n",
      "<function mmdagginc_test at 0x7f088fb7f4c0>\n",
      "[0.045      0.11       0.265      0.655      0.91499996 0.995\n",
      " 1.        ]\n",
      " \n",
      "<function deep_mmd_test at 0x7f088fb7f550>\n",
      "[0.005 0.    0.    0.005 0.01  0.01  0.   ]\n",
      " \n",
      "<function scf_test at 0x7f088fb7f670>\n",
      "[0.035 0.075 0.07  0.145 0.17  0.225 0.305]\n",
      " \n",
      "<function ctt_test at 0x7f088fb7f700>\n",
      "[0.09999999 0.14999999 0.32999998 0.53999996 0.78999996 0.875\n",
      " 0.98499995]\n",
      " \n",
      "<function actt_test at 0x7f088fb7f790>\n",
      "[0.08       0.145      0.36499998 0.65999997 0.89       0.995\n",
      " 0.995     ]\n",
      " \n",
      "<function deep_mmd_image_test at 0x7fca8873ddc0>\n",
      "[0.13499999 0.09       0.075      0.09       0.12       0.25\n",
      " 0.45499998]\n",
      "\n"
     ]
    }
   ],
   "source": [
    "repetitions = 200\n",
    "corruptions = (0.1, 0.15, 0.20, 0.25, 0.3, 0.35, 0.4)\n",
    "sample_size = 500\n",
    "\n",
    "tests = (mmdfuse_test, mmd_median_test, mmd_split_test, mmdagg_test, mmdagginc_test, deep_mmd_test, scf_test, ctt_test, actt_test, deep_mmd_image_test)\n",
    "outputs = jnp.zeros((len(tests), len(corruptions), repetitions))\n",
    "outputs = outputs.tolist()\n",
    "key = random.PRNGKey(42)\n",
    "seed = 42\n",
    "for s in tqdm(range(len(corruptions))):\n",
    "    corruption = corruptions[s]\n",
    "    for i in tqdm(range(repetitions)):\n",
    "        key, subkey = random.split(key)\n",
    "        X, Y = sampler_galaxy(subkey, m=sample_size, n=sample_size, corruption=corruption, images_list=images_list)\n",
    "        X = jnp.array(X, dtype=jnp.float32).reshape((X.shape[0], -1))\n",
    "        Y = jnp.array(Y, dtype=jnp.float32).reshape((Y.shape[0], -1))\n",
    "        key, subkey = random.split(key)\n",
    "        seed += 1\n",
    "        for t in range(len(tests)):\n",
    "            test = tests[t]\n",
    "            outputs[t][s][i] = test(\n",
    "                X,\n",
    "                Y,\n",
    "                subkey,\n",
    "                seed,\n",
    "            )\n",
    "\n",
    "output = jnp.mean(jnp.array(outputs), -1)\n",
    "\n",
    "jnp.save(\"results/galaxy_vary_dif.npy\", output)\n",
    "jnp.save(\"results/galaxy_vary_dif_x_axis.npy\", corruptions)\n",
    "\n",
    "print(\"corruptions :\", corruptions)\n",
    "print(\"sample size :\", sample_size)\n",
    "for t in range(len(tests)):\n",
    "    print(\" \")\n",
    "    print(tests[t])\n",
    "    print(output[t])"
   ]
  },
  {
   "cell_type": "markdown",
   "id": "eeb4b638-ecf6-4496-b9a6-dc9765bb0e23",
   "metadata": {
    "tags": []
   },
   "source": [
    "## Vary sample size"
   ]
  },
  {
   "cell_type": "code",
   "execution_count": 2,
   "id": "561791c2-ecd2-4bd7-b967-4340203946fa",
   "metadata": {
    "tags": []
   },
   "outputs": [
    {
     "name": "stdout",
     "output_type": "stream",
     "text": [
      "\n",
      "sample_sizes : (500, 1000, 1500, 2000, 2500)\n",
      "corruption : 0.15\n",
      " \n",
      "<function mmdfuse_test at 0x7f08a5c4f310>\n",
      "[0.2769231  0.4507772  0.71727747 0.84020615 0.87434554]\n",
      " \n",
      "<function mmd_median_test at 0x7f088fb7f310>\n",
      "[0.2244898  0.28350514 0.4789474  0.64248705 0.7291667 ]\n",
      " \n",
      "<function mmd_split_test at 0x7f088fb7f3a0>\n",
      "[0.13402061 0.19587629 0.375      0.48704663 0.5751295 ]\n",
      " \n",
      "<function mmdagg_test at 0x7f088fb7f430>\n",
      "[0.2722513  0.45360824 0.7668394  0.89847714 0.9732621 ]\n",
      " \n",
      "<function mmdagginc_test at 0x7f088fb7f4c0>\n",
      "[0.12565446 0.19796954 0.31794873 0.42211056 0.39037433]\n",
      " \n",
      "<function deep_mmd_test at 0x7f088fb7f550>\n",
      "[0. 0. 0. 0. 0.]\n",
      " \n",
      "<function scf_test at 0x7f088fb7f670>\n",
      "[0.08205128 0.07894737 0.04663212 0.08121827 0.06806283]\n",
      " \n",
      "<function ctt_test at 0x7f088fb7f700>\n",
      "[0.22395834 0.28877005 0.4894737  0.6526316  0.79473686]\n",
      " \n",
      "<function actt_test at 0x7f088fb7f790>\n",
      "[0.17098445 0.2871795  0.6010638  0.731579   0.8238342 ]\n",
      "\n",
      "<function deep_mmd_image_test at 0x7fca8873ddc0>\n",
      "[0.145      0.515      0.97999996 1.         1.        ]\n",
      "\n"
     ]
    }
   ],
   "source": [
    "repetitions = 200\n",
    "corruption = 0.15\n",
    "sample_sizes = (500, 1000, 1500, 2000, 2500)\n",
    "\n",
    "tests = (mmdfuse_test, mmd_median_test, mmd_split_test, mmdagg_test, mmdagginc_test, deep_mmd_test, scf_test, ctt_test, actt_test, deep_mmd_test_64)\n",
    "outputs = jnp.zeros((len(tests), len(sample_sizes), repetitions))\n",
    "outputs = outputs.tolist()\n",
    "key = random.PRNGKey(42)\n",
    "seed = 42\n",
    "for s in tqdm(range(len(sample_sizes))):\n",
    "    sample_size = sample_sizes[s]\n",
    "    for i in tqdm(range(repetitions)):\n",
    "        key, subkey = random.split(key)\n",
    "        X, Y = sampler_galaxy(subkey, m=sample_size, n=sample_size, corruption=corruption, images_list=images_list)\n",
    "        X = jnp.array(X, dtype=jnp.float32).reshape((X.shape[0], -1))\n",
    "        Y = jnp.array(Y, dtype=jnp.float32).reshape((Y.shape[0], -1))\n",
    "        key, subkey = random.split(key)\n",
    "        seed += 1\n",
    "        for t in range(len(tests)):\n",
    "            test = tests[t]\n",
    "            outputs[t][s][i] = test(\n",
    "                X,\n",
    "                Y,\n",
    "                subkey,\n",
    "                seed,\n",
    "            )\n",
    "\n",
    "output = jnp.mean(jnp.array(outputs), -1)\n",
    "\n",
    "jnp.save(\"results/galaxy_vary_n.npy\", output)\n",
    "jnp.save(\"results/galaxy_vary_n_x_axis.npy\", sample_sizes)\n",
    "\n",
    "print(\"sample_sizes :\", sample_sizes)\n",
    "print(\"corruption :\", corruption)\n",
    "for t in range(len(tests)):\n",
    "    print(\" \")\n",
    "    print(tests[t])\n",
    "    print(output[t])"
   ]
  },
  {
   "cell_type": "markdown",
   "id": "921735c5-06c0-4c9e-b5c5-f5659a6a1b55",
   "metadata": {
    "tags": []
   },
   "source": [
    "# Environment autogluon-env"
   ]
  },
  {
   "cell_type": "code",
   "execution_count": null,
   "id": "79dca59a-65fe-4b11-9bbb-3a86d7ee04a2",
   "metadata": {
    "tags": []
   },
   "outputs": [],
   "source": [
    "from sampler_galaxy import load_images_list, sampler_galaxy\n",
    "import jax\n",
    "import jax.numpy as jnp\n",
    "from jax import random\n",
    "from tqdm.auto import tqdm\n",
    "from pathlib import Path\n",
    "Path(\"results\").mkdir(exist_ok=True)"
   ]
  },
  {
   "cell_type": "code",
   "execution_count": 33,
   "id": "34fd9fbd-9595-46e1-a2cc-3a1081e9e363",
   "metadata": {
    "tags": []
   },
   "outputs": [],
   "source": [
    "import autotst\n",
    "from utils import HiddenPrints\n",
    "\n",
    "def autotst_test(X, Y, key, seed, time=60):\n",
    "    with HiddenPrints():\n",
    "        tst = autotst.AutoTST(X, Y, split_ratio=0.5, model=autotst.model.AutoGluonTabularPredictor)\n",
    "        tst.split_data()\n",
    "        tst.fit_witness(time_limit=time)  # time limit adjustable to your needs (in seconds)\n",
    "        p_value = tst.p_value_evaluate(permutations=10000)  # control number of permutations in the estimation\n",
    "    return int(p_value <= 0.05)"
   ]
  },
  {
   "cell_type": "code",
   "execution_count": 4,
   "id": "f6692a5f-8b1e-4962-9cb8-ec96a41838bd",
   "metadata": {
    "tags": []
   },
   "outputs": [],
   "source": [
    "images_list = load_images_list(highres=False)"
   ]
  },
  {
   "cell_type": "markdown",
   "id": "d341133b-8a52-40f7-82e5-6c4dceb835c9",
   "metadata": {
    "tags": []
   },
   "source": [
    "## Vary difficulty"
   ]
  },
  {
   "cell_type": "code",
   "execution_count": 24,
   "id": "1b998d2f-161b-4b7e-834c-6ab2bf44a009",
   "metadata": {
    "tags": []
   },
   "outputs": [
    {
     "name": "stdout",
     "output_type": "stream",
     "text": [
      "corruptions : (0.1, 0.15, 0.2, 0.25, 0.3, 0.35, 0.4)\n",
      "sample size : 500\n",
      " \n",
      "<function autotst_test at 0x7f238fc6f820>\n",
      "[0.12244898 0.285      0.5929648  0.81       0.95477384 0.995\n",
      " 1.        ]\n"
     ]
    }
   ],
   "source": [
    "repetitions = 200\n",
    "corruptions = (0.1, 0.15, 0.20, 0.25, 0.3, 0.35, 0.4)\n",
    "sample_size = 500\n",
    "\n",
    "tests = (autotst_test, )\n",
    "outputs = jnp.zeros((len(tests), len(corruptions), repetitions))\n",
    "outputs = outputs.tolist()\n",
    "key = random.PRNGKey(42)\n",
    "seed = 42\n",
    "for s in tqdm(range(len(corruptions))):\n",
    "    corruption = corruptions[s]\n",
    "    for i in tqdm(range(repetitions)):\n",
    "        key, subkey = random.split(key)\n",
    "        X, Y = sampler_galaxy(subkey, m=sample_size, n=sample_size, corruption=corruption, images_list=images_list)\n",
    "        X = jnp.array(X, dtype=jnp.float32).reshape((X.shape[0], -1))\n",
    "        Y = jnp.array(Y, dtype=jnp.float32).reshape((Y.shape[0], -1))\n",
    "        key, subkey = random.split(key)\n",
    "        seed += 1\n",
    "        for t in range(len(tests)):\n",
    "            test = tests[t]\n",
    "            outputs[t][s][i] = test(\n",
    "                X,\n",
    "                Y,\n",
    "                subkey,\n",
    "                seed,\n",
    "            )\n",
    "\n",
    "output = jnp.mean(jnp.array(outputs), -1)\n",
    "\n",
    "jnp.save(\"results/galaxy_vary_dif_autotst.npy\", output)\n",
    "\n",
    "print(\"corruptions :\", corruptions)\n",
    "print(\"sample size :\", sample_size)\n",
    "for t in range(len(tests)):\n",
    "    print(\" \")\n",
    "    print(tests[t])\n",
    "    print(output[t])"
   ]
  },
  {
   "cell_type": "markdown",
   "id": "17c73a50-a207-4629-8b37-3562209f8050",
   "metadata": {
    "tags": []
   },
   "source": [
    "## Vary sample size"
   ]
  },
  {
   "cell_type": "code",
   "execution_count": 31,
   "id": "0918e812-1c34-42ab-bd22-0a18d760e4ec",
   "metadata": {
    "tags": []
   },
   "outputs": [
    {
     "name": "stdout",
     "output_type": "stream",
     "text": [
      "sample_sizes : (500, 1000, 1500, 2000, 2500, 3000)\n",
      "corruption : 0.15\n",
      " \n",
      "<function autotst_test at 0x7f238fc6f820>\n",
      "[0.3030303  0.36683416 0.3939394  0.35       0.295      0.09999999]\n"
     ]
    }
   ],
   "source": [
    "repetitions = 200\n",
    "corruption = 0.15\n",
    "sample_sizes = (500, 1000, 1500, 2000, 2500, 3000)\n",
    "\n",
    "tests = (autotst_test, )\n",
    "outputs = jnp.zeros((len(tests), len(sample_sizes), repetitions))\n",
    "outputs = outputs.tolist()\n",
    "key = random.PRNGKey(42)\n",
    "seed = 42\n",
    "for s in tqdm(range(len(sample_sizes))):\n",
    "    sample_size = sample_sizes[s]\n",
    "    for i in tqdm(range(repetitions)):\n",
    "        key, subkey = random.split(key)\n",
    "        X, Y = sampler_galaxy(subkey, m=sample_size, n=sample_size, corruption=corruption, images_list=images_list)\n",
    "        X = jnp.array(X, dtype=jnp.float32).reshape((X.shape[0], -1))\n",
    "        Y = jnp.array(Y, dtype=jnp.float32).reshape((Y.shape[0], -1))\n",
    "        key, subkey = random.split(key)\n",
    "        seed += 1\n",
    "        for t in range(len(tests)):\n",
    "            test = tests[t]\n",
    "            outputs[t][s][i] = test(\n",
    "                X,\n",
    "                Y,\n",
    "                subkey,\n",
    "                seed,\n",
    "            )\n",
    "\n",
    "output = jnp.mean(jnp.array(outputs), -1)\n",
    "\n",
    "jnp.save(\"results/galaxy_vary_n_autotst.npy\", output)\n",
    "\n",
    "print(\"sample_sizes :\", sample_sizes)\n",
    "print(\"corruption :\", corruption)\n",
    "for t in range(len(tests)):\n",
    "    print(\" \")\n",
    "    print(tests[t])\n",
    "    print(output[t])\n",
    "\n"
   ]
  },
  {
   "cell_type": "code",
   "execution_count": 4,
   "id": "05cdf4f9-7e14-479b-8f9a-b66c906235b2",
   "metadata": {
    "tags": []
   },
   "outputs": [
    {
     "name": "stdout",
     "output_type": "stream",
     "text": [
      "\n",
      "sample_sizes : (500, 1000, 1500, 2000, 2500)\n",
      "corruption : 0.15\n",
      " \n",
      "<function autotst_test at 0x7f238fc6f820>\n",
      "[0.14999999 0.35       0.325      0.505      0.37      ]\n",
      "\n"
     ]
    }
   ],
   "source": [
    "# increase the time limit over the recommended amount\n",
    "# in order for autotst to have higher power\n",
    "\n",
    "repetitions = 200\n",
    "corruption = 0.15\n",
    "sample_sizes = (500, 1000, 1500, 2000, 2500, 3000)\n",
    "\n",
    "tests = (autotst_test, )\n",
    "outputs = jnp.zeros((len(tests), len(sample_sizes), repetitions))\n",
    "outputs = outputs.tolist()\n",
    "key = random.PRNGKey(42)\n",
    "seed = 42\n",
    "for s in tqdm(range(len(sample_sizes))):\n",
    "    sample_size = sample_sizes[s]\n",
    "    for i in tqdm(range(repetitions)):\n",
    "        key, subkey = random.split(key)\n",
    "        X, Y = sampler_galaxy(subkey, m=sample_size, n=sample_size, corruption=corruption, images_list=images_list)\n",
    "        X = jnp.array(X, dtype=jnp.float32).reshape((X.shape[0], -1))\n",
    "        Y = jnp.array(Y, dtype=jnp.float32).reshape((Y.shape[0], -1))\n",
    "        key, subkey = random.split(key)\n",
    "        seed += 1\n",
    "        for t in range(len(tests)):\n",
    "            test = tests[t]\n",
    "            outputs[t][s][i] = test(\n",
    "                X,\n",
    "                Y,\n",
    "                subkey,\n",
    "                seed,\n",
    "                time=3 * 60,\n",
    "            )\n",
    "\n",
    "output = jnp.mean(jnp.array(outputs), -1)\n",
    "\n",
    "jnp.save(\"results/galaxy_vary_n_autotst_3min.npy\", output)\n",
    "\n",
    "print(\"sample_sizes :\", sample_sizes)\n",
    "print(\"corruption :\", corruption)\n",
    "for t in range(len(tests)):\n",
    "    print(\" \")\n",
    "    print(tests[t])\n",
    "    print(output[t])\n"
   ]
  }
 ],
 "metadata": {
  "kernelspec": {
   "display_name": "Python 3 (ipykernel)",
   "language": "python",
   "name": "python3"
  },
  "language_info": {
   "codemirror_mode": {
    "name": "ipython",
    "version": 3
   },
   "file_extension": ".py",
   "mimetype": "text/x-python",
   "name": "python",
   "nbconvert_exporter": "python",
   "pygments_lexer": "ipython3",
   "version": "3.9.16"
  }
 },
 "nbformat": 4,
 "nbformat_minor": 5
}
